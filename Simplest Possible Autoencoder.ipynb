{
 "cells": [
  {
   "cell_type": "code",
   "execution_count": 1,
   "metadata": {},
   "outputs": [
    {
     "name": "stderr",
     "output_type": "stream",
     "text": [
      "Using TensorFlow backend.\n"
     ]
    }
   ],
   "source": [
    "# https://blog.keras.io/building-autoencoders-in-keras.html\n",
    "\n",
    "from keras.layers import Input, Dense\n",
    "from keras.models import Model\n",
    "\n",
    "# this is the size of our encoded representations\n",
    "encoding_dim = 32  # 32 floats -> compression of factor 24.5, assuming the input is 784 floats\n",
    "\n",
    "# this is our input placeholder\n",
    "input_img = Input(shape=(784,))\n",
    "# \"encoded\" is the encoded representation of the input\n",
    "encoded = Dense(encoding_dim, activation='relu')(input_img)\n",
    "# \"decoded\" is the lossy reconstruction of the input\n",
    "decoded = Dense(784, activation='sigmoid')(encoded)\n",
    "\n",
    "# this model maps an input to its reconstruction\n",
    "autoencoder = Model(input_img, decoded)"
   ]
  },
  {
   "cell_type": "code",
   "execution_count": 2,
   "metadata": {},
   "outputs": [],
   "source": [
    "# this model maps an input to its encoded representation\n",
    "encoder = Model(input_img, encoded)"
   ]
  },
  {
   "cell_type": "code",
   "execution_count": 3,
   "metadata": {},
   "outputs": [],
   "source": [
    "# create a placeholder for an encoded (32-dimensional) input\n",
    "encoded_input = Input(shape=(encoding_dim,))\n",
    "# retrieve the last layer of the autoencoder model\n",
    "decoder_layer = autoencoder.layers[-1]\n",
    "# create the decoder model\n",
    "decoder = Model(encoded_input, decoder_layer(encoded_input))"
   ]
  },
  {
   "cell_type": "code",
   "execution_count": 4,
   "metadata": {},
   "outputs": [],
   "source": [
    "autoencoder.compile(optimizer='adadelta', loss='binary_crossentropy')"
   ]
  },
  {
   "cell_type": "code",
   "execution_count": 6,
   "metadata": {},
   "outputs": [],
   "source": [
    "from keras.datasets import mnist\n",
    "import numpy as np\n",
    "(x_train, _), (x_test, _) = mnist.load_data()"
   ]
  },
  {
   "cell_type": "code",
   "execution_count": 8,
   "metadata": {},
   "outputs": [
    {
     "name": "stdout",
     "output_type": "stream",
     "text": [
      "(60000, 784)\n",
      "(10000, 784)\n"
     ]
    }
   ],
   "source": [
    "x_train = x_train.astype('float32') / 255.\n",
    "x_test = x_test.astype('float32') / 255.\n",
    "x_train = x_train.reshape((len(x_train), np.prod(x_train.shape[1:])))\n",
    "x_test = x_test.reshape((len(x_test), np.prod(x_test.shape[1:])))\n",
    "print(x_train.shape)\n",
    "print(x_test.shape)"
   ]
  },
  {
   "cell_type": "code",
   "execution_count": 9,
   "metadata": {},
   "outputs": [
    {
     "name": "stdout",
     "output_type": "stream",
     "text": [
      "Train on 60000 samples, validate on 10000 samples\n",
      "Epoch 1/50\n",
      "60000/60000 [==============================] - 7s 112us/step - loss: 0.3569 - val_loss: 0.2708\n",
      "Epoch 2/50\n",
      "60000/60000 [==============================] - 5s 86us/step - loss: 0.2634 - val_loss: 0.2527\n",
      "Epoch 3/50\n",
      "60000/60000 [==============================] - 5s 88us/step - loss: 0.2430 - val_loss: 0.2315\n",
      "Epoch 4/50\n",
      "60000/60000 [==============================] - 5s 92us/step - loss: 0.2234 - val_loss: 0.2136\n",
      "Epoch 5/50\n",
      "60000/60000 [==============================] - 5s 79us/step - loss: 0.2083 - val_loss: 0.2010\n",
      "Epoch 6/50\n",
      "60000/60000 [==============================] - 5s 80us/step - loss: 0.1974 - val_loss: 0.1915\n",
      "Epoch 7/50\n",
      "60000/60000 [==============================] - 5s 83us/step - loss: 0.1888 - val_loss: 0.1838\n",
      "Epoch 8/50\n",
      "60000/60000 [==============================] - 5s 91us/step - loss: 0.1817 - val_loss: 0.1773\n",
      "Epoch 9/50\n",
      "60000/60000 [==============================] - 5s 90us/step - loss: 0.1758 - val_loss: 0.1720\n",
      "Epoch 10/50\n",
      "60000/60000 [==============================] - 5s 89us/step - loss: 0.1708 - val_loss: 0.1672\n",
      "Epoch 11/50\n",
      "60000/60000 [==============================] - 5s 89us/step - loss: 0.1663 - val_loss: 0.1630\n",
      "Epoch 12/50\n",
      "60000/60000 [==============================] - 5s 91us/step - loss: 0.1623 - val_loss: 0.1591\n",
      "Epoch 13/50\n",
      "60000/60000 [==============================] - 5s 85us/step - loss: 0.1585 - val_loss: 0.1555\n",
      "Epoch 14/50\n",
      "60000/60000 [==============================] - 5s 85us/step - loss: 0.1551 - val_loss: 0.1522\n",
      "Epoch 15/50\n",
      "60000/60000 [==============================] - 5s 86us/step - loss: 0.1519 - val_loss: 0.1491\n",
      "Epoch 16/50\n",
      "60000/60000 [==============================] - 5s 86us/step - loss: 0.1488 - val_loss: 0.1462\n",
      "Epoch 17/50\n",
      "60000/60000 [==============================] - 5s 85us/step - loss: 0.1460 - val_loss: 0.1434\n",
      "Epoch 18/50\n",
      "60000/60000 [==============================] - 5s 85us/step - loss: 0.1434 - val_loss: 0.1408A: 0s - loss: 0.14\n",
      "Epoch 19/50\n",
      "60000/60000 [==============================] - 5s 85us/step - loss: 0.1409 - val_loss: 0.1385\n",
      "Epoch 20/50\n",
      "60000/60000 [==============================] - 5s 78us/step - loss: 0.1386 - val_loss: 0.1361\n",
      "Epoch 21/50\n",
      "60000/60000 [==============================] - 5s 78us/step - loss: 0.1364 - val_loss: 0.1340\n",
      "Epoch 22/50\n",
      "60000/60000 [==============================] - 5s 76us/step - loss: 0.1343 - val_loss: 0.1320\n",
      "Epoch 23/50\n",
      "60000/60000 [==============================] - 5s 76us/step - loss: 0.1324 - val_loss: 0.1301\n",
      "Epoch 24/50\n",
      "60000/60000 [==============================] - 5s 79us/step - loss: 0.1306 - val_loss: 0.1283\n",
      "Epoch 25/50\n",
      "60000/60000 [==============================] - 5s 77us/step - loss: 0.1288 - val_loss: 0.1266\n",
      "Epoch 26/50\n",
      "60000/60000 [==============================] - 5s 77us/step - loss: 0.1272 - val_loss: 0.1249\n",
      "Epoch 27/50\n",
      "60000/60000 [==============================] - 5s 79us/step - loss: 0.1256 - val_loss: 0.1234\n",
      "Epoch 28/50\n",
      "60000/60000 [==============================] - 5s 77us/step - loss: 0.1241 - val_loss: 0.1219\n",
      "Epoch 29/50\n",
      "60000/60000 [==============================] - 5s 77us/step - loss: 0.1227 - val_loss: 0.1206\n",
      "Epoch 30/50\n",
      "60000/60000 [==============================] - 5s 77us/step - loss: 0.1214 - val_loss: 0.1193\n",
      "Epoch 31/50\n",
      "60000/60000 [==============================] - 5s 75us/step - loss: 0.1202 - val_loss: 0.1181\n",
      "Epoch 32/50\n",
      "60000/60000 [==============================] - 5s 77us/step - loss: 0.1191 - val_loss: 0.1170\n",
      "Epoch 33/50\n",
      "60000/60000 [==============================] - 5s 78us/step - loss: 0.1180 - val_loss: 0.1160\n",
      "Epoch 34/50\n",
      "60000/60000 [==============================] - 5s 77us/step - loss: 0.1170 - val_loss: 0.1150\n",
      "Epoch 35/50\n",
      "60000/60000 [==============================] - 5s 78us/step - loss: 0.1161 - val_loss: 0.1141\n",
      "Epoch 36/50\n",
      "60000/60000 [==============================] - 5s 78us/step - loss: 0.1153 - val_loss: 0.1133\n",
      "Epoch 37/50\n",
      "60000/60000 [==============================] - 5s 80us/step - loss: 0.1145 - val_loss: 0.1125\n",
      "Epoch 38/50\n",
      "60000/60000 [==============================] - 5s 77us/step - loss: 0.1137 - val_loss: 0.1118\n",
      "Epoch 39/50\n",
      "60000/60000 [==============================] - 5s 77us/step - loss: 0.1130 - val_loss: 0.1111\n",
      "Epoch 40/50\n",
      "60000/60000 [==============================] - 5s 80us/step - loss: 0.1124 - val_loss: 0.1104\n",
      "Epoch 41/50\n",
      "60000/60000 [==============================] - 5s 79us/step - loss: 0.1118 - val_loss: 0.1098\n",
      "Epoch 42/50\n",
      "60000/60000 [==============================] - 5s 76us/step - loss: 0.1112 - val_loss: 0.1093\n",
      "Epoch 43/50\n",
      "60000/60000 [==============================] - 5s 77us/step - loss: 0.1107 - val_loss: 0.1088\n",
      "Epoch 44/50\n",
      "60000/60000 [==============================] - 5s 77us/step - loss: 0.1101 - val_loss: 0.1082\n",
      "Epoch 45/50\n",
      "60000/60000 [==============================] - 5s 77us/step - loss: 0.1097 - val_loss: 0.1078\n",
      "Epoch 46/50\n",
      "60000/60000 [==============================] - 5s 79us/step - loss: 0.1092 - val_loss: 0.1073\n",
      "Epoch 47/50\n",
      "60000/60000 [==============================] - 5s 79us/step - loss: 0.1088 - val_loss: 0.1069\n",
      "Epoch 48/50\n",
      "60000/60000 [==============================] - 5s 85us/step - loss: 0.1084 - val_loss: 0.1065\n",
      "Epoch 49/50\n",
      "60000/60000 [==============================] - 5s 80us/step - loss: 0.1080 - val_loss: 0.1062\n",
      "Epoch 50/50\n",
      "60000/60000 [==============================] - 5s 82us/step - loss: 0.1076 - val_loss: 0.1058\n"
     ]
    },
    {
     "data": {
      "text/plain": [
       "<keras.callbacks.History at 0x28ba0e75080>"
      ]
     },
     "execution_count": 9,
     "metadata": {},
     "output_type": "execute_result"
    }
   ],
   "source": [
    "autoencoder.fit(x_train, x_train,\n",
    "                epochs=50,\n",
    "                batch_size=256,\n",
    "                shuffle=True,\n",
    "                validation_data=(x_test, x_test))"
   ]
  },
  {
   "cell_type": "code",
   "execution_count": 10,
   "metadata": {},
   "outputs": [],
   "source": [
    "# encode and decode some digits\n",
    "# note that we take them from the *test* set\n",
    "encoded_imgs = encoder.predict(x_test)\n",
    "decoded_imgs = decoder.predict(encoded_imgs)"
   ]
  },
  {
   "cell_type": "code",
   "execution_count": 12,
   "metadata": {},
   "outputs": [
    {
     "data": {
      "image/png": "[encoded data removed]",
      "text/plain": [
       "<matplotlib.figure.Figure at 0x28ba30f90b8>"
      ]
     },
     "metadata": {},
     "output_type": "display_data"
    }
   ],
   "source": [
    "%matplotlib inline \n",
    "\n",
    "# use Matplotlib\n",
    "import matplotlib.pyplot as plt\n",
    "\n",
    "n = 10  # how many digits we will display\n",
    "plt.figure(figsize=(20, 4))\n",
    "for i in range(n):\n",
    "    # display original\n",
    "    ax = plt.subplot(2, n, i + 1)\n",
    "    plt.imshow(x_test[i].reshape(28, 28))\n",
    "    plt.gray()\n",
    "    ax.get_xaxis().set_visible(False)\n",
    "    ax.get_yaxis().set_visible(False)\n",
    "\n",
    "    # display reconstruction\n",
    "    ax = plt.subplot(2, n, i + 1 + n)\n",
    "    plt.imshow(decoded_imgs[i].reshape(28, 28))\n",
    "    plt.gray()\n",
    "    ax.get_xaxis().set_visible(False)\n",
    "    ax.get_yaxis().set_visible(False)\n",
    "plt.show()"
   ]
  },
  {
   "cell_type": "code",
   "execution_count": null,
   "metadata": {},
   "outputs": [],
   "source": []
  }
 ],
 "metadata": {
  "kernelspec": {
   "display_name": "Python 3",
   "language": "python",
   "name": "python3"
  },
  "language_info": {
   "codemirror_mode": {
    "name": "ipython",
    "version": 3
   },
   "file_extension": ".py",
   "mimetype": "text/x-python",
   "name": "python",
   "nbconvert_exporter": "python",
   "pygments_lexer": "ipython3",
   "version": "3.6.3"
  }
 },
 "nbformat": 4,
 "nbformat_minor": 2
}
