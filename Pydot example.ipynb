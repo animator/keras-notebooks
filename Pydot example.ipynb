{
 "cells": [
  {
   "cell_type": "code",
   "execution_count": 3,
   "metadata": {},
   "outputs": [
    {
     "data": {
      "text/plain": [
       "True"
      ]
     },
     "execution_count": 3,
     "metadata": {},
     "output_type": "execute_result"
    }
   ],
   "source": [
    "# pip install graphviz\n",
    "# pip install pydot-ng\n",
    "# Downloa and insall graphviz in Windows then edit System Environment Variables -> PATH\n",
    "# Do the same below\n",
    "\n",
    "import os\n",
    "os.environ[\"PATH\"]+= os.pathsep + 'C:\\\\Program Files (x86)\\\\Graphviz2.38\\\\bin\\\\'"
   ]
  },
  {
   "cell_type": "code",
   "execution_count": 7,
   "metadata": {},
   "outputs": [],
   "source": [
    "import pydot_ng as pydot\n",
    "graph = pydot.Dot(graph_type='digraph')\n",
    "node_a = pydot.Node(\"Node A\", style=\"filled\", fillcolor=\"red\")\n",
    "node_b = pydot.Node(\"Node B\", style=\"filled\", fillcolor=\"green\")\n",
    "node_c = pydot.Node(\"Node C\", style=\"filled\", fillcolor=\"#0000ff\")\n",
    "node_d = pydot.Node(\"Node D\", style=\"filled\", fillcolor=\"#976856\")\n",
    "graph.add_node(node_a)\n",
    "graph.add_node(node_b)\n",
    "graph.add_node(node_c)\n",
    "graph.add_node(node_d)\n",
    "graph.add_edge(pydot.Edge(node_a, node_b))\n",
    "graph.add_edge(pydot.Edge(node_b, node_c))\n",
    "graph.add_edge(pydot.Edge(node_c, node_d))\n",
    "graph.add_edge(pydot.Edge(node_d, node_a, label=\"and back we go again\", labelfontcolor=\"#009933\", fontsize=\"10.0\", color=\"blue\"))"
   ]
  },
  {
   "cell_type": "code",
   "execution_count": 17,
   "metadata": {},
   "outputs": [
    {
     "data": {
      "image/svg+xml": [
       "<svg height=\"273pt\" viewBox=\"0.00 0.00 185.65 273.00\" width=\"186pt\" xmlns=\"http://www.w3.org/2000/svg\" xmlns:xlink=\"http://www.w3.org/1999/xlink\">\n",
       "<g class=\"graph\" id=\"graph0\" transform=\"scale(1 1) rotate(0) translate(4 269)\">\n",
       "<title>G</title>\n",
       "<polygon fill=\"white\" points=\"-4,4 -4,-269 181.646,-269 181.646,4 -4,4\" stroke=\"none\"/>\n",
       "<!-- Node A -->\n",
       "<g class=\"node\" id=\"node1\"><title>Node A</title>\n",
       "<ellipse cx=\"90.6465\" cy=\"-247\" fill=\"red\" rx=\"39.7935\" ry=\"18\" stroke=\"black\"/>\n",
       "<text font-family=\"Times New Roman,serif\" font-size=\"14.00\" text-anchor=\"middle\" x=\"90.6465\" y=\"-243.3\">Node A</text>\n",
       "</g>\n",
       "<!-- Node B -->\n",
       "<g class=\"node\" id=\"node2\"><title>Node B</title>\n",
       "<ellipse cx=\"39.6465\" cy=\"-174\" fill=\"green\" rx=\"38.9931\" ry=\"18\" stroke=\"black\"/>\n",
       "<text font-family=\"Times New Roman,serif\" font-size=\"14.00\" text-anchor=\"middle\" x=\"39.6465\" y=\"-170.3\">Node B</text>\n",
       "</g>\n",
       "<!-- Node A&#45;&gt;Node B -->\n",
       "<g class=\"edge\" id=\"edge1\"><title>Node A-&gt;Node B</title>\n",
       "<path d=\"M78.8179,-229.533C72.4454,-220.661 64.4557,-209.538 57.3569,-199.656\" fill=\"none\" stroke=\"black\"/>\n",
       "<polygon fill=\"black\" points=\"60.0876,-197.458 51.4109,-191.378 54.4023,-201.542 60.0876,-197.458\" stroke=\"black\"/>\n",
       "</g>\n",
       "<!-- Node C -->\n",
       "<g class=\"node\" id=\"node3\"><title>Node C</title>\n",
       "<ellipse cx=\"39.6465\" cy=\"-91\" fill=\"#0000ff\" rx=\"39.7935\" ry=\"18\" stroke=\"black\"/>\n",
       "<text font-family=\"Times New Roman,serif\" font-size=\"14.00\" text-anchor=\"middle\" x=\"39.6465\" y=\"-87.3\">Node C</text>\n",
       "</g>\n",
       "<!-- Node B&#45;&gt;Node C -->\n",
       "<g class=\"edge\" id=\"edge2\"><title>Node B-&gt;Node C</title>\n",
       "<path d=\"M39.6465,-155.822C39.6465,-145.19 39.6465,-131.306 39.6465,-119.204\" fill=\"none\" stroke=\"black\"/>\n",
       "<polygon fill=\"black\" points=\"43.1466,-119.153 39.6465,-109.153 36.1466,-119.153 43.1466,-119.153\" stroke=\"black\"/>\n",
       "</g>\n",
       "<!-- Node D -->\n",
       "<g class=\"node\" id=\"node4\"><title>Node D</title>\n",
       "<ellipse cx=\"84.6465\" cy=\"-18\" fill=\"#976856\" rx=\"39.7935\" ry=\"18\" stroke=\"black\"/>\n",
       "<text font-family=\"Times New Roman,serif\" font-size=\"14.00\" text-anchor=\"middle\" x=\"84.6465\" y=\"-14.3\">Node D</text>\n",
       "</g>\n",
       "<!-- Node C&#45;&gt;Node D -->\n",
       "<g class=\"edge\" id=\"edge3\"><title>Node C-&gt;Node D</title>\n",
       "<path d=\"M50.0835,-73.5327C55.6495,-64.7508 62.6138,-53.7627 68.8296,-43.9555\" fill=\"none\" stroke=\"black\"/>\n",
       "<polygon fill=\"black\" points=\"71.8689,-45.6981 74.2661,-35.378 65.9564,-41.9507 71.8689,-45.6981\" stroke=\"black\"/>\n",
       "</g>\n",
       "<!-- Node D&#45;&gt;Node A -->\n",
       "<g class=\"edge\" id=\"edge4\"><title>Node D-&gt;Node A</title>\n",
       "<path d=\"M86.1795,-36.0087C87.0693,-46.6329 88.1162,-60.6024 88.6465,-73 90.8473,-124.45 90.9973,-184.579 90.8563,-218.686\" fill=\"none\" stroke=\"blue\"/>\n",
       "<polygon fill=\"blue\" points=\"87.3559,-218.783 90.8026,-228.802 94.3558,-218.821 87.3559,-218.783\" stroke=\"blue\"/>\n",
       "<text font-family=\"Times New Roman,serif\" font-size=\"10.00\" text-anchor=\"middle\" x=\"134.146\" y=\"-130\">and back we go again</text>\n",
       "</g>\n",
       "</g>\n",
       "</svg>"
      ],
      "text/plain": [
       "<IPython.core.display.SVG object>"
      ]
     },
     "execution_count": 17,
     "metadata": {},
     "output_type": "execute_result"
    }
   ],
   "source": [
    "from IPython.display import SVG\n",
    "SVG(graph.create(prog='dot', format='svg'))"
   ]
  }
 ],
 "metadata": {
  "kernelspec": {
   "display_name": "Python 3",
   "language": "python",
   "name": "python3"
  },
  "language_info": {
   "codemirror_mode": {
    "name": "ipython",
    "version": 3
   },
   "file_extension": ".py",
   "mimetype": "text/x-python",
   "name": "python",
   "nbconvert_exporter": "python",
   "pygments_lexer": "ipython3",
   "version": "3.6.3"
  }
 },
 "nbformat": 4,
 "nbformat_minor": 2
}
